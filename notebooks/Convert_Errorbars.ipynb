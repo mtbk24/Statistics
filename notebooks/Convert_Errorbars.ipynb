{
 "cells": [
  {
   "cell_type": "markdown",
   "metadata": {},
   "source": [
    "### Useful Resources and a little background.\n",
    "\n",
    "[Youtube Video to help with the Statistical Math behind this task.](https://www.youtube.com/watch?v=dNfpsVLaaEE)\n",
    "\n",
    "[Values of the Normal distribution](\thttps://www.medcalc.org/manual/values_of_the_normal_distribution.php)\n",
    "\n",
    "\n",
    "__Pct Area:__ the percentage of area (as a fraction of 1) under a Gaussian curve from -z to z. \n",
    "\n",
    "__z-value:__ the standard deviations. 1$\\sigma$ (or z-value = 1) is equivalent to 68.27% confidence interval. 68.27% of the area is located between -1 and +1 $\\sigma$, or 1 standard deviation.\n",
    "\n",
    "| Pct Area | z-value |\n",
    "|----------|---------|\n",
    "| 0.999\t   | 3.29053 |\n",
    "| 0.998\t   | 3.09023 |\n",
    "| 0.9973   | 3       |\n",
    "| 0.995\t   | 2.80703 |\n",
    "| 0.99\t   | 2.57583 |\n",
    "| 0.98\t   | 2.32635 |\n",
    "| 0.9545   | 2       |\n",
    "| 0.95\t   | 1.95996 |\n",
    "| 0.90\t   | 1.64485 |\n",
    "| 0.80\t   | 1.28155 |\n",
    "| 0.6827   | 1       |\n",
    "| 0.50\t   | 0.67449 |\n",
    "\n",
    "<img src=\"https://www.medcalc.org/manual/_help/images/z_curve2.png\" />\n",
    "\n",
    "\n",
    "\n",
    "[Also see table under the Quantile Function section at this Wikipedia page.](https://en.wikipedia.org/wiki/Normal_distribution#Quantile_function)\n",
    "\n",
    "[The 68-95-99.7 Rule](\n",
    "https://en.wikipedia.org/wiki/68%E2%80%9395%E2%80%9399.7_rule)\n",
    "\n",
    "\n",
    "Computing these quantiles:\n",
    "\n",
    "    1 sigma:  68.27%\n",
    "    -----------------\n",
    "    50-(68.27/2.) = 15.865\n",
    "    50+(68.27/2.) = 84.135\n",
    "\n",
    "    2 sigma:  95.45%\n",
    "    -----------------\n",
    "    50-(95.45/2.) = 2.275\n",
    "    50+(95.45/2.) = 97.725\n",
    "\n",
    "    3 sigma:  99.73%\n",
    "    -----------------\n",
    "    50-(99.73/2.) = 0.135\n",
    "    50+(99.73/2.) = 99.865\n",
    "\n",
    "    90% Confidence Interval: \n",
    "    -----------------\n",
    "    50-(90/2.) = 5\n",
    "    50+(90/2.) = 95\n",
    "\n",
    "    \n",
    "\n",
    "__These percentages and z-values are true for any Gaussian distribution, regardless of its mean and standard deviation values.__ \n",
    "\n",
    "\n",
    "```\n",
    "\n",
    "\n",
    "```\n"
   ]
  },
  {
   "cell_type": "code",
   "execution_count": 1,
   "metadata": {
    "collapsed": true
   },
   "outputs": [],
   "source": [
    "from __future__ import division\n",
    "import numpy as np\n",
    "import pandas as pd\n",
    "import matplotlib.pyplot as plt\n",
    "%matplotlib inline"
   ]
  },
  {
   "cell_type": "markdown",
   "metadata": {},
   "source": [
    "  "
   ]
  },
  {
   "cell_type": "code",
   "execution_count": 2,
   "metadata": {
    "collapsed": true
   },
   "outputs": [],
   "source": [
    "#   ****   AS A PERCENTAGE    ****\n",
    "sig1_L, sig1_U       = 50-(68.27/2.), 50+(68.27/2.)\n",
    "sig2_L, sig2_U       = 50-(95.45/2.), 50+(95.45/2.)\n",
    "sig3_L, sig3_U       = 50-(99.73/2.), 50+(99.73/2.)\n",
    "CI90pct_L, CI90pct_U = 50-(90/2.), 50+(90/2.)\n",
    "\n",
    "\n",
    "\n",
    "#   ****    AS A FRACTION    ****\n",
    "sig1_L, sig1_U       = .50-(.6827/2.), .50+(.6827/2.)\n",
    "sig2_L, sig2_U       = .50-(.9545/2.), .50+(.9545/2.)\n",
    "sig3_L, sig3_U       = .50-(.9973/2.), .50+(.9973/2.)\n",
    "CI90pct_L, CI90pct_U = .50-(.90/2.), .50+(.90/2.)"
   ]
  },
  {
   "cell_type": "code",
   "execution_count": 3,
   "metadata": {
    "collapsed": true
   },
   "outputs": [],
   "source": [
    "def get_sigma(err, z, n):\n",
    "    '''\n",
    "    Parameters\n",
    "    ----------\n",
    "    err: the errorbar on the mean. MUST BE THE MARGIN OF ERROR, NOT THE CONFIDENCE\n",
    "         INTERVAL BOUNDARIES. \n",
    "         Ex:\n",
    "            If the published value is 95+-2, then 2 is the margin of error and\n",
    "            should be used for this parameter. \n",
    "            The Confidence Interval would be either 93 or 97. We don't want those!\n",
    "            If the errors are not symmetric, then this function needs to be run\n",
    "            twice.\n",
    "            \n",
    "    z:   z-value. \n",
    "         Use 1.0, 2.0, and 3.0 for 1, 2, and 3, sigma. \n",
    "         Use 1.64 for 90% confidence, 1.96 for 95% confidence. \n",
    "         See z-values for area under curve from -z to +z.\n",
    "         https://www.medcalc.org/manual/values_of_the_normal_distribution.php\n",
    "         or \n",
    "         https://en.wikipedia.org/wiki/Normal_distribution#Quantile_function\n",
    "    \n",
    "    n:   sample size. n=1 if you only have one value.\n",
    "\n",
    "    \n",
    "    Returns\n",
    "    ---------\n",
    "    sigma:  the standard deviation of the distribution, or the 'scale' parameter\n",
    "          in scipy.stats.norm function\n",
    "    \n",
    "    '''\n",
    "\n",
    "    return (err * np.sqrt(n))/z\n",
    "\n",
    "\n",
    "\n",
    "def get_error(z, sigma, n):\n",
    "    '''\n",
    "    Returns the margin of error, based on the z-value.\n",
    "    \n",
    "    \n",
    "    Parameters\n",
    "    ----------\n",
    "    z:   z-value. \n",
    "         Use 1.0, 2.0, and 3.0 for 1, 2, and 3, sigma. \n",
    "         Use 1.64 for 90% confidence, 1.96 for 95% confidence. \n",
    "         See z-values for area under curve from -z to +z.\n",
    "         https://www.medcalc.org/manual/values_of_the_normal_distribution.php\n",
    "         or \n",
    "         https://en.wikipedia.org/wiki/Normal_distribution#Quantile_function\n",
    "    sigma: standard deviation of the distribution. \n",
    "         scipy.stats.norm `scale' parameter.\n",
    "    n:   sample size. n=1 if you only have one value.\n",
    "    \n",
    "    '''\n",
    "\n",
    "    return z * (sigma/np.sqrt(n))\n",
    "\n",
    "\n",
    "def confidence_interval(mu, z, sigma, n, side):\n",
    "    '''\n",
    "    Parameters\n",
    "    ----------\n",
    "    mu:  mean of the distribution, or value having error bars.\n",
    "         scipy.stats.norm `loc' parameter.\n",
    "    z:   z-value. \n",
    "         Use 1.0, 2.0, and 3.0 for 1, 2, and 3, sigma. \n",
    "         Use 1.64 for 90% confidence, 1.96 for 95% confidence. \n",
    "         See z-values for area under curve from -z to +z.\n",
    "         https://www.medcalc.org/manual/values_of_the_normal_distribution.php\n",
    "         or \n",
    "         https://en.wikipedia.org/wiki/Normal_distribution#Quantile_function\n",
    "    sigma: standard deviation of the distribution. \n",
    "         scipy.stats.norm `scale' parameter.\n",
    "    n:   sample size. n=1 if you only have one value.\n",
    "    side: side of confidence interval, 0 or 1. \n",
    "          0 - lower \n",
    "          1 - upper\n",
    "    \n",
    "         \n",
    "    \n",
    "    '''\n",
    "    if side:\n",
    "        return mu + (z * (sigma/np.sqrt(n)))\n",
    "    else:\n",
    "        return mu - (z * (sigma/np.sqrt(n)))"
   ]
  },
  {
   "cell_type": "markdown",
   "metadata": {},
   "source": [
    "```\n",
    "\n",
    "```"
   ]
  },
  {
   "cell_type": "markdown",
   "metadata": {},
   "source": [
    "<font size=\"3\">\n",
    "In a publication, we come across a value of $95^{+27}_{-14}$ for an energetic that we are interested in comparing against our own value. *Notice that these margins of error are not symmetric.* In addition, these margins of error are for a 90% confidence interval, not a 68.27% (i.e., $1\\sigma$) confidence interval that we desire (since ours have $1\\sigma$ errors). Lets convert these margins or error to their equivalent $1\\sigma$ values. This requires knowing the standard deviation of the distribution. So, I wrote a function to compute that: `get_sigma(err, z, n)`. Once you have this, you use it in `get_error(z, sigma, n)` to get the new margins or error, or you could skip this step and retrieve the confidence intervals using `confidence_interval(mu, z, sigma, n, side)`.\n",
    "Remember, because we have asymmetric error bars, we will compute the standard deviation of two Gaussian distributions, one for the lower margin of error and one for the upper.\n",
    "</font>"
   ]
  },
  {
   "cell_type": "markdown",
   "metadata": {},
   "source": [
    "__Calculating Standard Deviations of the One-sided Gaussian Distributions.__"
   ]
  },
  {
   "cell_type": "code",
   "execution_count": 4,
   "metadata": {
    "collapsed": false
   },
   "outputs": [
    {
     "name": "stdout",
     "output_type": "stream",
     "text": [
      "(8.5114144146882698, 16.414870656898806)\n"
     ]
    }
   ],
   "source": [
    "# CALCULATE THE ONE-SIDDED GAUSSIAN DISTRUBTIONS STANDARD DEVIATIONS, \n",
    "# BASED ON PUBLISHED ERRORBARS.\n",
    "\n",
    "sigma_L      = get_sigma(err=14, z=1.64485, n=1)  # lower margin of error \n",
    "sigma_U      = get_sigma(err=27, z=1.64485, n=1)  # upper margin of error\n",
    "print(sigma_L, sigma_U)  # std dev for each of their distributions."
   ]
  },
  {
   "cell_type": "markdown",
   "metadata": {},
   "source": [
    "The n=1 signifies that there is only 1 data point (and its errors) being considered. "
   ]
  },
  {
   "cell_type": "markdown",
   "metadata": {},
   "source": [
    "__Calculating the $1\\sigma$ margins of error (errorbars) of these same distributions.__"
   ]
  },
  {
   "cell_type": "code",
   "execution_count": 5,
   "metadata": {
    "collapsed": false
   },
   "outputs": [
    {
     "name": "stdout",
     "output_type": "stream",
     "text": [
      "(8.5114144146882698, 16.414870656898806)\n"
     ]
    }
   ],
   "source": [
    "error_L     = get_error(z=1, sigma=sigma_L, n=1) # new lower margin of error\n",
    "error_U     = get_error(z=1, sigma=sigma_U, n=1) # new upper margin of error\n",
    "print(error_L, error_U)"
   ]
  },
  {
   "cell_type": "markdown",
   "metadata": {},
   "source": [
    "<font size=\"3\">\n",
    "The published value with its $1\\sigma$ errors would be: $95^{+16.4}_{-8.51}$ \n",
    "<br><br>\n",
    "Notice how these $1\\sigma$ margins or error are the same values as their Gaussian distribution's standard deviation values. This is only true for $n=1$.\n",
    "</font>\n"
   ]
  },
  {
   "cell_type": "markdown",
   "metadata": {},
   "source": [
    "__And the $1\\sigma$ confidence intervals will be:__"
   ]
  },
  {
   "cell_type": "code",
   "execution_count": 6,
   "metadata": {
    "collapsed": false
   },
   "outputs": [
    {
     "name": "stdout",
     "output_type": "stream",
     "text": [
      "(86.488585585311725, 111.41487065689881)\n",
      "(86.488585585311725, 111.41487065689881)\n"
     ]
    }
   ],
   "source": [
    "CI_L = confidence_interval(mu=95, z=1, sigma=sigma_L, n=1, side=0)\n",
    "CI_U = confidence_interval(mu=95, z=1, sigma=sigma_U, n=1, side=1)\n",
    "\n",
    "print(CI_L, CI_U)\n",
    "# OR\n",
    "print(95-error_L, 95+error_U)\n"
   ]
  },
  {
   "cell_type": "markdown",
   "metadata": {},
   "source": [
    "__What were the 90% confidence intervals on the original value? Recall it was $95^{+27}_{-14}$ and these margins of error are already the 90% CI equivalent errorbars.__"
   ]
  },
  {
   "cell_type": "code",
   "execution_count": 7,
   "metadata": {
    "collapsed": false
   },
   "outputs": [
    {
     "name": "stdout",
     "output_type": "stream",
     "text": [
      "(81.0, 122.0)\n",
      "(81, 122)\n"
     ]
    }
   ],
   "source": [
    "CI_L = confidence_interval(mu=95, z=1.64485, sigma=sigma_L, n=1, side=0)\n",
    "CI_U = confidence_interval(mu=95, z=1.64485, sigma=sigma_U, n=1, side=1)\n",
    "print(CI_L, CI_U)\n",
    "print(95-14, 95+27)\n"
   ]
  },
  {
   "cell_type": "markdown",
   "metadata": {},
   "source": [
    "```\n",
    "\n",
    "```"
   ]
  },
  {
   "cell_type": "markdown",
   "metadata": {},
   "source": [
    "__Errors and Confidence Interval Bounds for 2$\\sigma$__"
   ]
  },
  {
   "cell_type": "code",
   "execution_count": 8,
   "metadata": {
    "collapsed": false
   },
   "outputs": [
    {
     "name": "stdout",
     "output_type": "stream",
     "text": [
      "17.0228288294\n",
      "32.8297413138\n"
     ]
    }
   ],
   "source": [
    "print(get_error(z=2, sigma=sigma_L, n=1))\n",
    "print(get_error(z=2, sigma=sigma_U, n=1))"
   ]
  },
  {
   "cell_type": "code",
   "execution_count": 9,
   "metadata": {
    "collapsed": false
   },
   "outputs": [
    {
     "name": "stdout",
     "output_type": "stream",
     "text": [
      "77.9771711706\n",
      "127.829741314\n"
     ]
    }
   ],
   "source": [
    "print(confidence_interval(mu=95, z=2, sigma=sigma_L, n=1, side=0))\n",
    "print(confidence_interval(mu=95, z=2, sigma=sigma_U, n=1, side=1))"
   ]
  },
  {
   "cell_type": "markdown",
   "metadata": {},
   "source": [
    "__Errors and Confidence Interval Bounds for 3$\\sigma$__"
   ]
  },
  {
   "cell_type": "code",
   "execution_count": 10,
   "metadata": {
    "collapsed": false
   },
   "outputs": [
    {
     "name": "stdout",
     "output_type": "stream",
     "text": [
      "25.5342432441\n",
      "49.2446119707\n"
     ]
    }
   ],
   "source": [
    "print(get_error(z=3, sigma=sigma_L, n=1))\n",
    "print(get_error(z=3, sigma=sigma_U, n=1))"
   ]
  },
  {
   "cell_type": "code",
   "execution_count": 11,
   "metadata": {
    "collapsed": false
   },
   "outputs": [
    {
     "name": "stdout",
     "output_type": "stream",
     "text": [
      "69.4657567559\n",
      "144.244611971\n"
     ]
    }
   ],
   "source": [
    "print confidence_interval(mu=95, z=3, sigma=sigma_L, n=1, side=0)\n",
    "print confidence_interval(mu=95, z=3, sigma=sigma_U, n=1, side=1)"
   ]
  },
  {
   "cell_type": "markdown",
   "metadata": {},
   "source": [
    "__Errors and Confidence Intervals Bounds for 95% confidence.__"
   ]
  },
  {
   "cell_type": "code",
   "execution_count": 12,
   "metadata": {
    "collapsed": false
   },
   "outputs": [
    {
     "name": "stdout",
     "output_type": "stream",
     "text": [
      "16.6820317962\n",
      "32.1724898927\n"
     ]
    }
   ],
   "source": [
    "# z = 1.95996 at 95%\n",
    "print(get_error(z=1.95996, sigma=sigma_L, n=1))\n",
    "print(get_error(z=1.95996, sigma=sigma_U, n=1))"
   ]
  },
  {
   "cell_type": "code",
   "execution_count": 13,
   "metadata": {
    "collapsed": false
   },
   "outputs": [
    {
     "name": "stdout",
     "output_type": "stream",
     "text": [
      "78.3179682038\n",
      "127.172489893\n"
     ]
    }
   ],
   "source": [
    "print confidence_interval(mu=95, z=1.95996, sigma=sigma_L, n=1, side=0)\n",
    "print confidence_interval(mu=95, z=1.95996, sigma=sigma_U, n=1, side=1)"
   ]
  },
  {
   "cell_type": "markdown",
   "metadata": {},
   "source": [
    "These errors should be smaller than those at $2\\sigma$ and $3\\sigma$, considering their respective percentages are 95.45% and 99.73%."
   ]
  },
  {
   "cell_type": "markdown",
   "metadata": {},
   "source": [
    "```\n",
    "\n",
    "\n",
    "```\n",
    "<font size=\"4\">\n",
    "In Scipy\n",
    "</font>\n",
    "\n",
    "Using `scipy.stats.norm.ppf(q, loc, scale)`, where ppf stands for percent point function. The ppf is the inverse of the cdf, the cumulative distribution function, at q of the given RV.\n",
    "\n",
    "\n",
    "The scipy, the `scale` parameter is the standard deviation of the distribution and the `loc` parameter is the mean of the distribution. "
   ]
  },
  {
   "cell_type": "code",
   "execution_count": 14,
   "metadata": {
    "collapsed": true
   },
   "outputs": [],
   "source": [
    "from scipy.stats import norm"
   ]
  },
  {
   "cell_type": "code",
   "execution_count": 15,
   "metadata": {
    "collapsed": false
   },
   "outputs": [
    {
     "name": "stdout",
     "output_type": "stream",
     "text": [
      "90% confidence interval. Fractions = [0.05, 0.95]\n",
      "80.9999698116\n",
      "122.000058455\n",
      "\n",
      "1 sigma. Fractions = [0.15865, 0.84135]\n",
      "86.4884011889\n",
      "111.415226421\n",
      "\n",
      "2 sigma. Fractions = [0.02275, 0.97725]\n",
      "77.977151199\n",
      "127.829780116\n",
      "\n",
      "3 sigma. Fractions = [0.00135, 0.99865]\n",
      "69.4659538246\n",
      "144.244232338\n",
      "\n"
     ]
    }
   ],
   "source": [
    "# 90% confidence interval.\n",
    "print('90% confidence interval. Fractions = [0.05, 0.95]')\n",
    "print(norm.ppf(0.05, loc=95, scale=8.511414))\n",
    "print(norm.ppf(0.95, loc=95, scale=16.41487))\n",
    "print('')\n",
    "\n",
    "# 1 sigma. \n",
    "print('1 sigma. Fractions = [0.15865, 0.84135]')\n",
    "print(norm.ppf(0.50-(.6827/2.), loc=95, scale=8.511414))\n",
    "print(norm.ppf(0.50+(.6827/2.), loc=95, scale=16.41487))\n",
    "print('')\n",
    "\n",
    "# 2 sigma\n",
    "print('2 sigma. Fractions = [0.02275, 0.97725]')\n",
    "print(norm.ppf(0.50-(.9545/2.), loc=95, scale=8.511414))\n",
    "print(norm.ppf(0.50+(.9545/2.), loc=95, scale=16.41487))\n",
    "print('')\n",
    "\n",
    "# 3 sigma\n",
    "print('3 sigma. Fractions = [0.00135, 0.99865]')\n",
    "print(norm.ppf(0.50-(.9973/2.), loc=95, scale=8.511414))\n",
    "print(norm.ppf(0.50+(.9973/2.), loc=95, scale=16.41487))\n",
    "print('')"
   ]
  },
  {
   "cell_type": "markdown",
   "metadata": {},
   "source": [
    "```\n",
    "\n",
    "\n",
    "```\n",
    "<font size=\"4\">\n",
    "Plotting These Distributions \n",
    "</font>\n",
    "\n",
    "Make an array of random variables that are drawn from each of these Gaussian distributions. \n",
    "\n",
    "loc = 95 and scale = 8.51141 or 16.41487\n",
    "\n",
    "\n",
    "We can find the percentiles by using the np.percentile function on the list of random variables. "
   ]
  },
  {
   "cell_type": "code",
   "execution_count": 16,
   "metadata": {
    "collapsed": false
   },
   "outputs": [
    {
     "name": "stdout",
     "output_type": "stream",
     "text": [
      "In Order:   90% Lower, 1-sig Lower, 1-sig Upper, 90% Upper \n",
      "\n",
      "Scale: 8.51141\n",
      "[  80.59053954   86.00290573  103.75676825  110.16620494]\n",
      "Scale: 16.41487\n",
      "[  67.10311227   78.16259456  111.9124689   121.51503776]\n"
     ]
    }
   ],
   "source": [
    "print('In Order:   90% Lower, 1-sig Lower, 1-sig Upper, 90% Upper \\n')\n",
    "rvars = norm.rvs(size=1000, loc=95, scale=8.51141)\n",
    "print('Scale: 8.51141')\n",
    "print( np.percentile(rvars, [5, 15.865, 84.135, 95]) )\n",
    "\n",
    "rvars = norm.rvs(size=1000, loc=95, scale=16.41487)\n",
    "print('Scale: 16.41487')\n",
    "print( np.percentile(rvars, [5, 15.865, 84.135, 95]) )"
   ]
  },
  {
   "cell_type": "code",
   "execution_count": 17,
   "metadata": {
    "collapsed": false,
    "scrolled": true
   },
   "outputs": [
    {
     "data": {
      "image/png": "[encoded data removed]",
      "text/plain": [
       "<matplotlib.figure.Figure at 0x10d931f10>"
      ]
     },
     "metadata": {},
     "output_type": "display_data"
    }
   ],
   "source": [
    "val    = 95\n",
    "scales = [8.51141, 16.41487]\n",
    "colors = ['blue', 'red']\n",
    "\n",
    "fig, ax = plt.subplots(1, 2, figsize=(13,5))\n",
    "\n",
    "for i,scl in enumerate(scales):\n",
    "    x = np.linspace(norm.ppf(0.001, loc=val, scale=scl),\n",
    "                    norm.ppf(0.999, loc=val, scale=scl), 100)\n",
    "\n",
    "    ax[i].plot(x, norm.pdf(x, loc=val, scale=scl), color=colors[i], ls='-', lw=5, alpha=0.6)\n",
    "    \n",
    "    # GENERATE 1000 RANDOM VARIABLES OF THIS NORMAL DISTRIBUTION. \n",
    "    r = norm.rvs(size=1000, loc=val, scale=scl)\n",
    "    ax[i].hist(r, density=True, histtype='stepfilled', color=colors[i], alpha=0.2)\n",
    "    \n",
    "    ax[i].axvline(val, 0, 1, color='black', linestyle='-') # val is mean of the distribution, (95)\n",
    "    \n",
    "    # 1,2,3 sigma quantiles. \n",
    "    pctls1 = norm.ppf([.50-(.6827/2.), .50+(.6827/2.), \n",
    "                       .50-(.9545/2.), .50+(.9545/2.), \n",
    "                       .50-(.9973/2.), .50+(.9973/2.)], loc=val, scale=scl)\n",
    "    \n",
    "    # 90% confidence level\n",
    "    pctls2 = norm.ppf([.05, .95], loc=val, scale=scl)\n",
    "    \n",
    "    # LABELS FOR THESE \n",
    "    # If label is empty or starts with “_”, those artists will be ignored.\n",
    "    labs1 =['']*(len(pctls1)-1); labs1\n",
    "    labs1 = labs1 + ['1,2,3 $\\sigma$']\n",
    "    labs2 =['']*(len(pctls2)-1); labs2\n",
    "    labs2 = labs2 + ['90% Conf.']\n",
    "    \n",
    "    for j,pctl in enumerate(pctls1):  # six iterations \n",
    "        ax[i].axvline(pctl, 0, 1, color=colors[i], linestyle='-', alpha=0.6, label=labs1[j])\n",
    "    \n",
    "    for j,pctl in enumerate(pctls2):  # two iterations\n",
    "        ax[i].axvline(pctl, 0, 1, color='black', linestyle='--',  label=labs2[j])\n",
    "        \n",
    "    ax[i].set_ylim(0, 0.05)\n",
    "    ax[i].legend(loc=1, frameon=True, numpoints=1)\n",
    "    ax[i].set_xlabel('x', fontsize=18)\n",
    "    ax[i].set_ylabel('PDF', fontsize=18)\n",
    "    ax[i].set_title('normal distribution for $\\mu=95$, stdev=%.2f'%scales[i])\n",
    "    \n",
    "plt.show()"
   ]
  }
 ],
 "metadata": {
  "kernelspec": {
   "display_name": "Python 2",
   "language": "python",
   "name": "python2"
  },
  "language_info": {
   "codemirror_mode": {
    "name": "ipython",
    "version": 2
   },
   "file_extension": ".py",
   "mimetype": "text/x-python",
   "name": "python",
   "nbconvert_exporter": "python",
   "pygments_lexer": "ipython2",
   "version": "2.7.11"
  }
 },
 "nbformat": 4,
 "nbformat_minor": 0
}
