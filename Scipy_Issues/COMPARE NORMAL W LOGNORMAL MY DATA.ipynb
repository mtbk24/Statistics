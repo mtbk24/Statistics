{
 "cells": [
  {
   "cell_type": "code",
   "execution_count": 1,
   "metadata": {
    "collapsed": true
   },
   "outputs": [],
   "source": [
    "class LogNormal(object):\n",
    "\n",
    "    def __init__(self, X=None, Mu=None, Sigma=None):\n",
    "        self.X = X\n",
    "        self.Mu = Mu\n",
    "        self.Sigma = Sigma\n",
    "        \n",
    "    def pdf(self, X, Mu, Sigma):\n",
    "        return (np.exp(-(np.log(X) - Mu)**2 / (2 * Sigma**2)) / (X * Sigma * np.sqrt(2 * np.pi)))\n",
    "\n",
    "    def cdf(self, X, Mu, Sigma):\n",
    "        from scipy.special import erf\n",
    "        return 0.5+0.5*(erf((np.log(X)-Mu)/(np.sqrt(2)*Sigma)))\n",
    "    \n",
    "    def mean(self, Mu, Sigma):\n",
    "        return np.exp(Mu+(0.5*(Sigma**2)))\n",
    "    \n",
    "    def median(self, Mu, Sigma=None):\n",
    "        return np.exp(Mu)\n",
    "    \n",
    "    def mode(self, Mu, Sigma):\n",
    "        return np.exp(Mu-(Sigma**2))\n",
    "    \n",
    "    def var(self, Mu, Sigma):\n",
    "        return (np.exp(Sigma**2)-1)*np.exp(2*Mu+(Sigma**2))\n",
    "    \n",
    "    def std(self, Mu, Sigma):\n",
    "        return np.sqrt((np.exp(Sigma**2)-1) * np.exp(2*Mu+(Sigma**2)))\n",
    "    \n",
    "\n",
    "    def quantile(self, Probs, Mu=None, Sigma=None): # all None's have to be last\n",
    "        from scipy.special import erfinv\n",
    "        \n",
    "        probs = [Probs]\n",
    "        probs = np.asanyarray(probs)\n",
    "        if not Mu:\n",
    "            Mu = 0\n",
    "        if not Sigma:\n",
    "            Sigma = 1.0\n",
    "\n",
    "        quant = []\n",
    "        for i,prob in enumerate(probs):\n",
    "            stand_norm_quantile = (0 + 1.0 * np.sqrt(2) * erfinv(2* prob-1)) # (Mu + Sigma * np.sqrt(2) * erfinv(2* Prob-1)) \n",
    "            quant.append(2.71828**(Mu+(stand_norm_quantile*Sigma)))\n",
    "        return quant[0]\n",
    "\n",
    "Lognorm = LogNormal()"
   ]
  },
  {
   "cell_type": "code",
   "execution_count": 2,
   "metadata": {
    "collapsed": false
   },
   "outputs": [
    {
     "name": "stderr",
     "output_type": "stream",
     "text": [
      "/Users/KimiZ/anaconda/lib/python2.7/site-packages/pandas/computation/__init__.py:19: UserWarning: The installed version of numexpr 2.4.4 is not supported in pandas and will be not be used\n",
      "\n",
      "  UserWarning)\n"
     ]
    }
   ],
   "source": [
    "from __future__ import division\n",
    "import sys, os\n",
    "import numpy as np\n",
    "import pandas as pd\n",
    "from collections import OrderedDict\n",
    "import pyfits\n",
    "\n",
    "import matplotlib.pyplot as plt\n",
    "%matplotlib inline\n",
    "\n",
    "# import matplotlib.mlab as mlab\n",
    "# from matplotlib.backends.backend_pdf import PdfPages\n",
    "# from matplotlib.patches import Ellipse\n",
    "\n",
    "from scipy.stats import norm, lognorm"
   ]
  },
  {
   "cell_type": "code",
   "execution_count": 7,
   "metadata": {
    "collapsed": false
   },
   "outputs": [
    {
     "name": "stdout",
     "output_type": "stream",
     "text": [
      "Does not exist\n"
     ]
    }
   ],
   "source": [
    "modname      = 'grbm+blackb'\n",
    "version      = '-01-'\n",
    "detector     = 'GBMwLAT'\n",
    "\n",
    "burst        = 'bn080916009'\n",
    "data_dir     = \"/Users/KimiZ/GRBs2/analysis/LAT/%s/integrated/\"%burst\n",
    "mod_dir      = \"/Users/KimiZ/GRBs2/analysis/LAT/%s/PYXSPEC/%s/%s/\"%(burst, detector, modname)\n",
    "\n",
    "#fakedatafile = \n",
    "\n",
    "if not os.path.exists(os.path.join(data_dir, \"fakeit_fitresults_%s_%s.fit\"%(modname, version))):\n",
    "    "
   ]
  },
  {
   "cell_type": "code",
   "execution_count": 14,
   "metadata": {
    "collapsed": false
   },
   "outputs": [
    {
     "data": {
      "text/plain": [
       "'/Users/KimiZ/GRBs2/analysis/LAT/bn080916009/PYXSPEC/GBMwLAT/grbm+blackb/'"
      ]
     },
     "execution_count": 14,
     "metadata": {},
     "output_type": "execute_result"
    }
   ],
   "source": [
    "mod_dir"
   ]
  },
  {
   "cell_type": "code",
   "execution_count": 13,
   "metadata": {
    "collapsed": false
   },
   "outputs": [
    {
     "data": {
      "text/plain": [
       "False"
      ]
     },
     "execution_count": 13,
     "metadata": {},
     "output_type": "execute_result"
    }
   ],
   "source": [
    "os.path.exists(os.path.join(mod_dir, \"fakeit_fitresults_%s_%s.fit\"%(modname, version)))"
   ]
  },
  {
   "cell_type": "code",
   "execution_count": 12,
   "metadata": {
    "collapsed": false
   },
   "outputs": [
    {
     "name": "stdout",
     "output_type": "stream",
     "text": [
      "Can't find file\n"
     ]
    }
   ],
   "source": [
    "if os.path.exists(os.path.join(data_dir, \"fakeit_fitresults_%s_%s.fit\"%(modname, version))):  \n",
    "    fakedatafile = os.path.join(data_dir, \"fakeit_fitresults_%s_%s.fit\"%(modname, version))\n",
    "elif os.path.exists(os.path.join(mod_dir, \"fakeit_fitresults_%s_%s.fit\"%(modname, version))):\n",
    "    fakedatafile = os.path.join(mod_dir, \"fakeit_fitresults_%s_%s.fit\"%(modname, version))\n",
    "else:\n",
    "    print \"Can't find file\"\n",
    "        "
   ]
  },
  {
   "cell_type": "code",
   "execution_count": 5,
   "metadata": {
    "collapsed": false
   },
   "outputs": [
    {
     "data": {
      "text/plain": [
       "False"
      ]
     },
     "execution_count": 5,
     "metadata": {},
     "output_type": "execute_result"
    }
   ],
   "source": [
    "os.path.exists(os.path.join(data_dir, \"fakeit_fitresults_%s_%s.fit\"%(modname, version)))"
   ]
  },
  {
   "cell_type": "code",
   "execution_count": 4,
   "metadata": {
    "collapsed": false
   },
   "outputs": [
    {
     "ename": "IOError",
     "evalue": "File does not exist: '/Users/KimiZ/GRBs2/analysis/LAT/bn080916009/integrated/fakeit_fitresults_grbm+blackb_-01-.fit'",
     "output_type": "error",
     "traceback": [
      "\u001b[0;31m---------------------------------------------------------------------------\u001b[0m",
      "\u001b[0;31mIOError\u001b[0m                                   Traceback (most recent call last)",
      "\u001b[0;32m<ipython-input-4-ac3b6470bede>\u001b[0m in \u001b[0;36m<module>\u001b[0;34m()\u001b[0m\n\u001b[0;32m----> 1\u001b[0;31m \u001b[0mFdata\u001b[0m \u001b[0;34m=\u001b[0m \u001b[0mpyfits\u001b[0m\u001b[0;34m.\u001b[0m\u001b[0mopen\u001b[0m\u001b[0;34m(\u001b[0m\u001b[0mfakedatafile\u001b[0m\u001b[0;34m)\u001b[0m\u001b[0;34m\u001b[0m\u001b[0m\n\u001b[0m\u001b[1;32m      2\u001b[0m \u001b[0;34m\u001b[0m\u001b[0m\n\u001b[1;32m      3\u001b[0m \u001b[0miter\u001b[0m \u001b[0;34m=\u001b[0m \u001b[0;36m0\u001b[0m\u001b[0;34m\u001b[0m\u001b[0m\n\u001b[1;32m      4\u001b[0m \u001b[0mBdata\u001b[0m \u001b[0;34m=\u001b[0m \u001b[0mpd\u001b[0m\u001b[0;34m.\u001b[0m\u001b[0mDataFrame\u001b[0m\u001b[0;34m(\u001b[0m\u001b[0;34m)\u001b[0m\u001b[0;34m\u001b[0m\u001b[0m\n\u001b[1;32m      5\u001b[0m \u001b[0;32mfor\u001b[0m \u001b[0mname\u001b[0m \u001b[0;32min\u001b[0m \u001b[0mFdata\u001b[0m\u001b[0;34m[\u001b[0m\u001b[0;36m1\u001b[0m\u001b[0;34m]\u001b[0m\u001b[0;34m.\u001b[0m\u001b[0mdata\u001b[0m\u001b[0;34m.\u001b[0m\u001b[0mcolumns\u001b[0m\u001b[0;34m.\u001b[0m\u001b[0mnames\u001b[0m\u001b[0;34m:\u001b[0m\u001b[0;34m\u001b[0m\u001b[0m\n",
      "\u001b[0;32m/Users/KimiZ/anaconda/lib/python2.7/site-packages/pyfits-3.3-py2.7-macosx-10.5-x86_64.egg/pyfits/hdu/hdulist.pyc\u001b[0m in \u001b[0;36mfitsopen\u001b[0;34m(name, mode, memmap, save_backup, **kwargs)\u001b[0m\n\u001b[1;32m    107\u001b[0m         \u001b[0;32mraise\u001b[0m \u001b[0mValueError\u001b[0m\u001b[0;34m(\u001b[0m\u001b[0;34m'Empty filename: %s'\u001b[0m \u001b[0;34m%\u001b[0m \u001b[0mrepr\u001b[0m\u001b[0;34m(\u001b[0m\u001b[0mname\u001b[0m\u001b[0;34m)\u001b[0m\u001b[0;34m)\u001b[0m\u001b[0;34m\u001b[0m\u001b[0m\n\u001b[1;32m    108\u001b[0m \u001b[0;34m\u001b[0m\u001b[0m\n\u001b[0;32m--> 109\u001b[0;31m     \u001b[0;32mreturn\u001b[0m \u001b[0mHDUList\u001b[0m\u001b[0;34m.\u001b[0m\u001b[0mfromfile\u001b[0m\u001b[0;34m(\u001b[0m\u001b[0mname\u001b[0m\u001b[0;34m,\u001b[0m \u001b[0mmode\u001b[0m\u001b[0;34m,\u001b[0m \u001b[0mmemmap\u001b[0m\u001b[0;34m,\u001b[0m \u001b[0msave_backup\u001b[0m\u001b[0;34m,\u001b[0m \u001b[0;34m**\u001b[0m\u001b[0mkwargs\u001b[0m\u001b[0;34m)\u001b[0m\u001b[0;34m\u001b[0m\u001b[0m\n\u001b[0m\u001b[1;32m    110\u001b[0m \u001b[0;34m\u001b[0m\u001b[0m\n\u001b[1;32m    111\u001b[0m \u001b[0;34m\u001b[0m\u001b[0m\n",
      "\u001b[0;32m/Users/KimiZ/anaconda/lib/python2.7/site-packages/pyfits-3.3-py2.7-macosx-10.5-x86_64.egg/pyfits/hdu/hdulist.pyc\u001b[0m in \u001b[0;36mfromfile\u001b[0;34m(cls, fileobj, mode, memmap, save_backup, **kwargs)\u001b[0m\n\u001b[1;32m    239\u001b[0m \u001b[0;34m\u001b[0m\u001b[0m\n\u001b[1;32m    240\u001b[0m         return cls._readfrom(fileobj=fileobj, mode=mode, memmap=memmap,\n\u001b[0;32m--> 241\u001b[0;31m                              save_backup=save_backup, **kwargs)\n\u001b[0m\u001b[1;32m    242\u001b[0m \u001b[0;34m\u001b[0m\u001b[0m\n\u001b[1;32m    243\u001b[0m     \u001b[0;34m@\u001b[0m\u001b[0mclassmethod\u001b[0m\u001b[0;34m\u001b[0m\u001b[0m\n",
      "\u001b[0;32m/Users/KimiZ/anaconda/lib/python2.7/site-packages/pyfits-3.3-py2.7-macosx-10.5-x86_64.egg/pyfits/hdu/hdulist.pyc\u001b[0m in \u001b[0;36m_readfrom\u001b[0;34m(cls, fileobj, data, mode, memmap, save_backup, **kwargs)\u001b[0m\n\u001b[1;32m    756\u001b[0m             \u001b[0;32mif\u001b[0m \u001b[0;32mnot\u001b[0m \u001b[0misinstance\u001b[0m\u001b[0;34m(\u001b[0m\u001b[0mfileobj\u001b[0m\u001b[0;34m,\u001b[0m \u001b[0m_File\u001b[0m\u001b[0;34m)\u001b[0m\u001b[0;34m:\u001b[0m\u001b[0;34m\u001b[0m\u001b[0m\n\u001b[1;32m    757\u001b[0m                 \u001b[0;31m# instantiate a FITS file object (ffo)\u001b[0m\u001b[0;34m\u001b[0m\u001b[0;34m\u001b[0m\u001b[0m\n\u001b[0;32m--> 758\u001b[0;31m                 \u001b[0mffo\u001b[0m \u001b[0;34m=\u001b[0m \u001b[0m_File\u001b[0m\u001b[0;34m(\u001b[0m\u001b[0mfileobj\u001b[0m\u001b[0;34m,\u001b[0m \u001b[0mmode\u001b[0m\u001b[0;34m=\u001b[0m\u001b[0mmode\u001b[0m\u001b[0;34m,\u001b[0m \u001b[0mmemmap\u001b[0m\u001b[0;34m=\u001b[0m\u001b[0mmemmap\u001b[0m\u001b[0;34m)\u001b[0m\u001b[0;34m\u001b[0m\u001b[0m\n\u001b[0m\u001b[1;32m    759\u001b[0m             \u001b[0;32melse\u001b[0m\u001b[0;34m:\u001b[0m\u001b[0;34m\u001b[0m\u001b[0m\n\u001b[1;32m    760\u001b[0m                 \u001b[0mffo\u001b[0m \u001b[0;34m=\u001b[0m \u001b[0mfileobj\u001b[0m\u001b[0;34m\u001b[0m\u001b[0m\n",
      "\u001b[0;32m/Users/KimiZ/anaconda/lib/python2.7/site-packages/pyfits-3.3-py2.7-macosx-10.5-x86_64.egg/pyfits/file.pyc\u001b[0m in \u001b[0;36m__init__\u001b[0;34m(self, fileobj, mode, memmap, clobber)\u001b[0m\n\u001b[1;32m    119\u001b[0m                 \u001b[0;31m# A couple different exceptions can occur here when passing a\u001b[0m\u001b[0;34m\u001b[0m\u001b[0;34m\u001b[0m\u001b[0m\n\u001b[1;32m    120\u001b[0m                 \u001b[0;31m# filename into urlretrieve in Python 3\u001b[0m\u001b[0;34m\u001b[0m\u001b[0;34m\u001b[0m\u001b[0m\n\u001b[0;32m--> 121\u001b[0;31m                 \u001b[0;32mraise\u001b[0m \u001b[0mIOError\u001b[0m\u001b[0;34m(\u001b[0m\u001b[0;34m'File does not exist: %r'\u001b[0m \u001b[0;34m%\u001b[0m \u001b[0mfileobj\u001b[0m\u001b[0;34m)\u001b[0m\u001b[0;34m\u001b[0m\u001b[0m\n\u001b[0m\u001b[1;32m    122\u001b[0m         \u001b[0;32melse\u001b[0m\u001b[0;34m:\u001b[0m\u001b[0;34m\u001b[0m\u001b[0m\n\u001b[1;32m    123\u001b[0m             \u001b[0mself\u001b[0m\u001b[0;34m.\u001b[0m\u001b[0mname\u001b[0m \u001b[0;34m=\u001b[0m \u001b[0mfileobj_name\u001b[0m\u001b[0;34m(\u001b[0m\u001b[0mfileobj\u001b[0m\u001b[0;34m)\u001b[0m\u001b[0;34m\u001b[0m\u001b[0m\n",
      "\u001b[0;31mIOError\u001b[0m: File does not exist: '/Users/KimiZ/GRBs2/analysis/LAT/bn080916009/integrated/fakeit_fitresults_grbm+blackb_-01-.fit'"
     ]
    }
   ],
   "source": [
    "Fdata = pyfits.open(fakedatafile)\n",
    "\n",
    "iter = 0\n",
    "Bdata = pd.DataFrame()\n",
    "for name in Fdata[1].data.columns.names:\n",
    "    Bdata[\"%s\"%name] = Fdata[1].data[\"%s\"%name]\n",
    "    if 'PARAM' in name:\n",
    "        iter += 1\n",
    "    else:\n",
    "        pass\n",
    "nPars = iter\n",
    "\n",
    "Bdata = Bdata.astype('float64')"
   ]
  },
  {
   "cell_type": "code",
   "execution_count": null,
   "metadata": {
    "collapsed": false
   },
   "outputs": [],
   "source": [
    "def Plot_ParamDistributions(modelname, parameter, Xlimits=None, bins=50):\n",
    "    XLabel = str(parameter)\n",
    "\n",
    "    x = Bdata[\"%s\"%XLabel]\n",
    "    mu, sigma = np.mean(x), np.sqrt(np.var(x))\n",
    "    \n",
    "    fig = plt.figure(figsize = (11,7))\n",
    "    ax = fig.add_subplot(111)\n",
    "\n",
    "    n, bins, patches = ax.hist(x, bins, normed=1, facecolor='green', alpha=0.75)\n",
    "    bincenters = 0.5*(bins[1:]+bins[:-1])\n",
    "\n",
    "    # add a 'best fit' line for the normal PDF\n",
    "    y = mlab.normpdf(bincenters, mu, sigma)\n",
    "\n",
    "\n",
    "    x1siglo = mu-sigma\n",
    "    x1sighi = mu+sigma\n",
    "    x2siglo = mu-2*sigma\n",
    "    x2sighi = mu+2*sigma\n",
    "    x3siglo = mu-3*sigma\n",
    "    x3sighi = mu+3*sigma\n",
    "\n",
    "    # ax.get_xlim()\n",
    "    ylow, yhi = ax.get_ylim()\n",
    "    ylabelpos = yhi - (yhi*.01)\n",
    "    yhigh = yhi + (yhi*.1)\n",
    "    #ylow, yhigh = ax.yaxis.get_data_interval()\n",
    "    ax.vlines(mu, ylow, yhigh, linestyle='--', color=\"black\") # mu + sigma\n",
    "    ax.vlines(mu+sigma, ylow, yhigh, linestyle='--', color=\"black\") # mu + sigma\n",
    "    ax.vlines(mu-sigma, ylow, yhigh, linestyle='--', color=\"black\") # mu - sigma\n",
    "    ax.vlines(mu+2*sigma, ylow, yhigh, linestyle='--', color=\"black\") # mu + 2*sigma\n",
    "    ax.vlines(mu-2*sigma, ylow, yhigh, linestyle='--', color=\"black\") # mu - 2*sigma\n",
    "    ax.vlines(mu+3*sigma, ylow, yhigh, linestyle='--', color=\"black\") # mu + 3*sigma\n",
    "    ax.vlines(mu-3*sigma, ylow, yhigh, linestyle='--', color=\"black\") # mu - 3*sigma\n",
    "    #ax.text(x,y, \"text\")\n",
    "    ax.text(mu, ylabelpos, r\"$\\mu$\", fontsize = 12, horizontalalignment='center')\n",
    "    ax.text(x1sighi, ylabelpos, r\"$1\\sigma$\", fontsize = 12, horizontalalignment='center')\n",
    "    ax.text(x1siglo, ylabelpos, r\"$1\\sigma$\", fontsize = 12, horizontalalignment='center')\n",
    "    ax.text(x2sighi, ylabelpos, r\"$2\\sigma$\", fontsize = 12, horizontalalignment='center')\n",
    "    ax.text(x2siglo, ylabelpos, r\"$2\\sigma$\", fontsize = 12, horizontalalignment='center')\n",
    "    ax.text(x3sighi, ylabelpos, r\"$3\\sigma$\", fontsize = 12, horizontalalignment='center')\n",
    "    ax.text(x3siglo, ylabelpos, r\"$3\\sigma$\", fontsize = 12, horizontalalignment='center')\n",
    "    ax.set_ylim(ylow, yhigh)\n",
    "    \n",
    "    ax.set_xlim(mu-5*sigma, mu+5*sigma)\n",
    "    \n",
    "    # if Xlimits is not None:\n",
    "    #     ax.set_xlim(Xlimits)\n",
    "    \n",
    "    ax.plot(bincenters, y, 'r--', linewidth=1)\n",
    "    ax.set_xlabel('%s'%XLabel)\n",
    "    ax.set_title('%s'%modelname)\n"
   ]
  },
  {
   "cell_type": "code",
   "execution_count": null,
   "metadata": {
    "collapsed": false,
    "scrolled": true
   },
   "outputs": [],
   "source": [
    "for param in Bdata.columns:\n",
    "    Plot_ParamDistributions('sbpl+bbody', param)"
   ]
  },
  {
   "cell_type": "code",
   "execution_count": null,
   "metadata": {
    "collapsed": false
   },
   "outputs": [],
   "source": [
    "mu         = np.mean(np.log(data))  # mean of the data\n",
    "sigma     = np.std(np.log(data) )  # standard deviation of the data\n",
    "mu, sigma"
   ]
  },
  {
   "cell_type": "code",
   "execution_count": null,
   "metadata": {
    "collapsed": false,
    "scrolled": true
   },
   "outputs": [],
   "source": [
    "XLabel = \"PARAM3\"\n",
    "\n",
    "plt.figure(figsize=(13,8))\n",
    "\n",
    "data = Bdata[XLabel]\n",
    "if data.mean() < 0:\n",
    "    data = abs(data)\n",
    "\n",
    "\n",
    "count, bins, ignored = plt.hist(data, bins=100, normed=True, align='mid', alpha=0.2)\n",
    "\n",
    "mu_norm         = np.mean(data)  # mean of the data\n",
    "sigma_norm      = np.std(data)   # standard deviation of the data\n",
    "\n",
    "x = np.linspace(min(bins), max(bins), 1000)\n",
    "y = norm.pdf(x, mu_norm, sigma_norm)\n",
    "plt.plot(x,y, 'b-')\n",
    "\n",
    "\n",
    "mu_lognorm      = np.mean(np.log(data))  # the mean of the logged data\n",
    "sigma_lognorm   = np.std(np.log(data))   # the standard deviation of the logged data\n",
    "\n",
    "x = np.linspace(min(bins), max(bins), 1000)\n",
    "y = Lognorm.pdf(x, mu_lognorm, sigma_lognorm)\n",
    "plt.plot(x, y, 'r--')\n",
    "\n",
    "\n",
    "\n",
    "\n",
    "norm_limits = norm.ppf([0.15865, 0.84135, 0.0227499999, 0.97725, 0.00135, 0.99865], mu_norm, sigma_norm)\n",
    "plt.vlines(norm_limits, y.min(), y.max(), color='blue', linestyle='-', label=\"Normal\")\n",
    "\n",
    "lognorm_limits = Lognorm.quantile([0.15865, 0.84135, 0.0227499999, 0.97725, 0.00135, 0.99865], mu_lognorm, sigma_lognorm)\n",
    "plt.vlines(lognorm_limits, y.min(), y.max(), color='red', linestyle='--', label=\"Lognormal\")\n",
    "\n",
    "#plt.xlim(200,800)\n",
    "\n",
    "plt.legend(loc='best')\n",
    "print \"\"\n",
    "print \"norm.ppf(prob, mu_norm, sigma_norm)\"\n",
    "print \"                   (Lower Tail, Upper Tail)\"\n",
    "print \"1-sigma_norm:  %.9f, %.9f\"%(norm.ppf([0.15865], mu_norm, sigma_norm), norm.ppf([0.84135], mu_norm, sigma_norm))\n",
    "print \"2-sigma_norm:  %.9f, %.9f\"%(norm.ppf([0.0227499999], mu_norm, sigma_norm), norm.ppf([0.97725], mu_norm, sigma_norm))\n",
    "print \"3-sigma_norm:  %.9f, %.9f\"%(norm.ppf([0.00135], mu_norm, sigma_norm), norm.ppf([0.99865], mu_norm, sigma_norm))\n",
    "print \"\"\n",
    "\n",
    "print \"\"\n",
    "print \"Lognorm.quantile(prob, mu_lognorm, sigma_lognorm)\"\n",
    "print \"                   (Lower Tail, Upper Tail)\"\n",
    "print \"1-sigma_lognorm:  %.9f, %.9f\"%(Lognorm.quantile([0.15865], mu_lognorm, sigma_lognorm), Lognorm.quantile([0.84135], mu_lognorm, sigma_lognorm))\n",
    "print \"2-sigma_lognorm:  %.9f, %.9f\"%(Lognorm.quantile([0.0227499999], mu_lognorm, sigma_lognorm), Lognorm.quantile([0.97725], mu_lognorm, sigma_lognorm))\n",
    "print \"3-sigma_lognorm:  %.9f, %.9f\"%(Lognorm.quantile([0.00135], mu_lognorm, sigma_lognorm), Lognorm.quantile([0.99865], mu_lognorm, sigma_lognorm))\n",
    "print \"\"\n",
    "\n",
    "\n",
    "Diff1_l  = np.diff([Lognorm.quantile(0.15865, mu_lognorm, sigma_lognorm), norm.ppf(0.15865, mu_norm, sigma_norm)])\n",
    "\n",
    "Diff1_u  = np.diff([Lognorm.quantile(0.84135, mu_lognorm, sigma_lognorm), norm.ppf(0.84135, mu_norm, sigma_norm)])\n",
    "\n",
    "Diff2_l  = np.diff([Lognorm.quantile(0.0227499999, mu_lognorm, sigma_lognorm), norm.ppf(0.0227499999, mu_norm, sigma_norm)])\n",
    "\n",
    "Diff2_u  = np.diff([Lognorm.quantile(0.97725, mu_lognorm, sigma_lognorm), norm.ppf(0.97725, mu_norm, sigma_norm)])\n",
    "\n",
    "Diff3_l  = np.diff([Lognorm.quantile(0.00135, mu_lognorm, sigma_lognorm), norm.ppf(0.00135, mu_norm, sigma_norm)])\n",
    "\n",
    "Diff3_u  = np.diff([Lognorm.quantile(0.99865, mu_lognorm, sigma_lognorm), norm.ppf(0.99865, mu_norm, sigma_norm)])\n",
    "\n",
    "print \"\"\n",
    "print \"Difference Between Normal Quantiles and Lognormal Quantiles\"\n",
    "print \"                   (Lower Tail, Upper Tail)\"\n",
    "print \"1-sigma_norm DIFF:  %.9f, %.9f\"%(Diff1_l, Diff1_u)\n",
    "print \"2-sigma_norm DIFF:  %.9f, %.9f\"%(Diff2_l, Diff2_u)\n",
    "print \"3-sigma_norm DIFF:  %.9f, %.9f\"%(Diff3_l, Diff3_u)\n",
    "print \"\"\n",
    "\n",
    "print \"\\n\"\n",
    "print \"From Distributions: \"\n",
    "print \"Depending on which distribution is the best fit to the data, \"\n",
    "print \"here are their statistical properties:\"\n",
    "print \"\"\n",
    "print \"MEAN: (Normal, Lognormal)\"\n",
    "print \"%.9f, %.9f\"%(norm.mean(mu_norm, sigma_norm), Lognorm.mean(mu_lognorm, sigma_lognorm))\n",
    "print \"\"\n",
    "print \"MEDIAN: (Normal, Lognormal)\"\n",
    "print \"%.9f, %.9f\"%(norm.median(mu_norm, sigma_norm), Lognorm.median(mu_lognorm, sigma_lognorm))\n",
    "print \"\"\n",
    "print \"MODE: (Normal, Lognormal)\" # mode is the mean for the normal distribution\n",
    "print \"%.9f, %.9f\"%(norm.mean(mu_norm, sigma_norm) , Lognorm.mode(mu_lognorm, sigma_lognorm))\n",
    "print \"\"\n",
    "print \"STD DEV: (Normal, Lognormal)\"\n",
    "print \"%.9f, %.9f\"%(norm.std(mu_norm, sigma_norm), Lognorm.std(mu_lognorm, sigma_lognorm))\n",
    "print \"\"\n",
    "print \"VARIANCE: (Normal, Lognormal)\"\n",
    "print \"%.9f, %.9f\"%(norm.var(mu_norm, sigma_norm), Lognorm.var(mu_lognorm, sigma_lognorm))\n",
    "print \"\""
   ]
  },
  {
   "cell_type": "code",
   "execution_count": null,
   "metadata": {
    "collapsed": false
   },
   "outputs": [],
   "source": [
    "np.std(Bdata[\"PARAM3\"]), Bdata[\"PARAM3\"].std()"
   ]
  },
  {
   "cell_type": "code",
   "execution_count": null,
   "metadata": {
    "collapsed": false
   },
   "outputs": [],
   "source": [
    "norm.std(mu_norm, sigma_norm)"
   ]
  },
  {
   "cell_type": "code",
   "execution_count": null,
   "metadata": {
    "collapsed": false
   },
   "outputs": [],
   "source": [
    "print \"\\n\"\n",
    "print \"From Distributions: \"\n",
    "print \"Depending on which distribution is the best fit to the data, \"\n",
    "print \"here are their statistical properties:\"\n",
    "print \"\"\n",
    "print \"MEAN: (Normal, Lognormal)\"\n",
    "print \"%.9f, %.9f\"%(norm.mean(mu_norm, sigma_norm), Lognorm.mean(mu_lognorm, sigma_lognorm))\n",
    "print \"\"\n",
    "print \"MEDIAN: (Normal, Lognormal)\"\n",
    "print \"%.9f, %.9f\"%(norm.median(mu_norm, sigma_norm), Lognorm.median(mu_lognorm, sigma_lognorm))\n",
    "print \"\"\n",
    "print \"MODE: (Normal, Lognormal)\" # mode is the mean for the normal distribution\n",
    "print \"%.9f, %.9f\"%(norm.mean(mu_norm, sigma_norm) , Lognorm.mode(mu_lognorm, sigma_lognorm))\n",
    "print \"\"\n",
    "print \"STD DEV: (Normal, Lognormal)\"\n",
    "print \"%.9f, %.9f\"%(norm.std(mu_norm, sigma_norm), Lognorm.std(mu_lognorm, sigma_lognorm))\n",
    "print \"\"\n",
    "print \"VARIANCE: (Normal, Lognormal)\"\n",
    "print \"%.9f, %.9f\"%(norm.var(mu_norm, sigma_norm), Lognorm.var(mu_lognorm, sigma_lognorm))\n",
    "print \"\""
   ]
  },
  {
   "cell_type": "code",
   "execution_count": null,
   "metadata": {
    "collapsed": true
   },
   "outputs": [],
   "source": []
  },
  {
   "cell_type": "code",
   "execution_count": null,
   "metadata": {
    "collapsed": false
   },
   "outputs": [],
   "source": [
    "STAT_VAR = np.mean(Bdata[\"CSTAT\"])\n",
    "STAT_STD = np.std(Bdata[\"CSTAT\"])\n",
    "STAT_STD2 = Bdata[\"CSTAT\"].std()"
   ]
  },
  {
   "cell_type": "code",
   "execution_count": null,
   "metadata": {
    "collapsed": false
   },
   "outputs": [],
   "source": [
    "STAT_VAR, STAT_STD, STAT_STD2"
   ]
  },
  {
   "cell_type": "code",
   "execution_count": null,
   "metadata": {
    "collapsed": true
   },
   "outputs": [],
   "source": []
  },
  {
   "cell_type": "code",
   "execution_count": null,
   "metadata": {
    "collapsed": false
   },
   "outputs": [],
   "source": [
    "Lognorm.mean(mu_lognorm, sigma_lognorm)"
   ]
  },
  {
   "cell_type": "code",
   "execution_count": null,
   "metadata": {
    "collapsed": false
   },
   "outputs": [],
   "source": [
    "norm.mean(mu_norm, sigma_norm)"
   ]
  },
  {
   "cell_type": "code",
   "execution_count": null,
   "metadata": {
    "collapsed": true
   },
   "outputs": [],
   "source": []
  },
  {
   "cell_type": "code",
   "execution_count": null,
   "metadata": {
    "collapsed": false
   },
   "outputs": [],
   "source": [
    "Diff1_l  = np.diff([Lognorm.quantile([0.15865], mu_lognorm, sigma_lognorm), norm.ppf(0.15865, mu_norm, sigma_norm)])\n",
    "Diff1_l[0]"
   ]
  },
  {
   "cell_type": "code",
   "execution_count": null,
   "metadata": {
    "collapsed": true
   },
   "outputs": [],
   "source": [
    "mu_lognorm      = np.mean(np.log(abs(data)))  # the mean of the logged data\n",
    "sigma_lognorm   = np.std(np.log(abs(data)))   # the standard deviation of the logged data"
   ]
  },
  {
   "cell_type": "code",
   "execution_count": null,
   "metadata": {
    "collapsed": false,
    "scrolled": true
   },
   "outputs": [],
   "source": [
    "mu_lognorm, sigma_lognorm"
   ]
  },
  {
   "cell_type": "code",
   "execution_count": null,
   "metadata": {
    "collapsed": true
   },
   "outputs": [],
   "source": []
  },
  {
   "cell_type": "code",
   "execution_count": null,
   "metadata": {
    "collapsed": true
   },
   "outputs": [],
   "source": []
  },
  {
   "cell_type": "code",
   "execution_count": null,
   "metadata": {
    "collapsed": true
   },
   "outputs": [],
   "source": []
  },
  {
   "cell_type": "code",
   "execution_count": null,
   "metadata": {
    "collapsed": false
   },
   "outputs": [],
   "source": [
    "mu_lognorm, sigma_lognorm"
   ]
  },
  {
   "cell_type": "code",
   "execution_count": null,
   "metadata": {
    "collapsed": false
   },
   "outputs": [],
   "source": [
    "Lognorm.quantile(.25, mu_lognorm, sigma_lognorm), norm.ppf(.25, mu_norm, sigma_norm)"
   ]
  },
  {
   "cell_type": "code",
   "execution_count": null,
   "metadata": {
    "collapsed": false
   },
   "outputs": [],
   "source": [
    "XLabel = \"PARAM3\"\n",
    "\n",
    "x = Bdata[\"%s\"%XLabel]\n",
    "\n",
    "print \"\"\n",
    "mu, sigma = np.mean(x), np.sqrt(np.var(x))\n",
    "print \"mu, sigma = np.mean(x), np.sqrt(np.var(x))\"\n",
    "print \"mu: %f   sigma: %f \" %(mu, sigma)\n",
    "print \"\"\n",
    "\n",
    "print \"\"\n",
    "mu, sigma = x.mean(), x.std()\n",
    "print \"mu, sigma = x.mean(), x.std()\"\n",
    "print \"mu: %f   sigma: %f \" %(mu, sigma)\n",
    "print \"\"\n",
    "\n",
    "\n",
    "mu, sigma = np.mean(x), np.sqrt(np.var(x))\n",
    "print \"\"\n",
    "print \"mu-sigma, mu+sigma\"\n",
    "print \"1-sigma:  %.9f, %.9f\"%(mu-sigma, mu+sigma)\n",
    "print \"2-sigma:  %.9f, %.9f\"%(mu-2*sigma, mu+2*sigma)\n",
    "print \"3-sigma:  %.9f, %.9f\"%(mu-3*sigma, mu+3*sigma)\n",
    "print \"\"\n",
    "\n",
    "\n",
    "print \"\"\n",
    "print \"ppf.norm(prob, mu, sigma)\"\n",
    "print \"1-sigma:  %.9f, %.9f\"%(norm.ppf([0.15865], mu, sigma), norm.ppf([0.84135], mu, sigma))\n",
    "print \"2-sigma:  %.9f, %.9f\"%(norm.ppf([0.0227499999], mu, sigma), norm.ppf([0.97725], mu, sigma))\n",
    "print \"3-sigma:  %.9f, %.9f\"%(norm.ppf([0.00135], mu, sigma), norm.ppf([0.99865], mu, sigma))\n",
    "print \"\"\n",
    "\n",
    "\n",
    "Diff1_l  = np.diff([mu-sigma, norm.ppf([0.15865], mu, sigma)])\n",
    "Diff1_u  = np.diff([mu+sigma, norm.ppf([0.84135], mu, sigma)])\n",
    "\n",
    "Diff2_l  = np.diff([mu-2*sigma, norm.ppf([0.0227499999], mu, sigma)])\n",
    "Diff2_u  = np.diff([mu+2*sigma, norm.ppf([0.97725], mu, sigma)])\n",
    "\n",
    "Diff3_l  = np.diff([mu-3*sigma, norm.ppf([0.00135], mu, sigma)])\n",
    "Diff3_u  = np.diff([mu+3*sigma, norm.ppf([0.99865], mu, sigma)])\n",
    "\n",
    "\n",
    "print \"\"\n",
    "print \"ppf.norm(prob, mu, sigma)\"\n",
    "print \"1-sigma DIFF:  %.9f, %.9f\"%(Diff1_l, Diff1_u)\n",
    "print \"2-sigma DIFF:  %.9f, %.9f\"%(Diff2_l, Diff2_u)\n",
    "print \"3-sigma DIFF:  %.9f, %.9f\"%(Diff3_l, Diff3_u)\n",
    "print \"\"\n",
    "\n"
   ]
  },
  {
   "cell_type": "code",
   "execution_count": null,
   "metadata": {
    "collapsed": true
   },
   "outputs": [],
   "source": []
  },
  {
   "cell_type": "code",
   "execution_count": null,
   "metadata": {
    "collapsed": true
   },
   "outputs": [],
   "source": []
  },
  {
   "cell_type": "code",
   "execution_count": null,
   "metadata": {
    "collapsed": true
   },
   "outputs": [],
   "source": []
  },
  {
   "cell_type": "code",
   "execution_count": null,
   "metadata": {
    "collapsed": true
   },
   "outputs": [],
   "source": []
  },
  {
   "cell_type": "code",
   "execution_count": null,
   "metadata": {
    "collapsed": true
   },
   "outputs": [],
   "source": []
  },
  {
   "cell_type": "code",
   "execution_count": null,
   "metadata": {
    "collapsed": true
   },
   "outputs": [],
   "source": []
  },
  {
   "cell_type": "code",
   "execution_count": null,
   "metadata": {
    "collapsed": false
   },
   "outputs": [],
   "source": [
    "np.diff([mu-sigma, norm.ppf([0.15865], mu, sigma)])"
   ]
  },
  {
   "cell_type": "code",
   "execution_count": null,
   "metadata": {
    "collapsed": false,
    "scrolled": true
   },
   "outputs": [],
   "source": [
    "np.diff(mu-sigma, norm.ppf([0.15865], mu, sigma)[0])"
   ]
  },
  {
   "cell_type": "code",
   "execution_count": null,
   "metadata": {
    "collapsed": true
   },
   "outputs": [],
   "source": [
    "xA = Bdata[\"PARAM3\"]\n",
    "muA = Bdata[\"PARAM3\"].mean()\n",
    "Plot_ParamDistributions(modname, 'PARAM3', bins=100)\n",
    "plt.plot(xA, poisson.pmf(xA, muA), 'go', ms=8, label='poisson pmf')\n",
    "plt.vlines(524.111, 0, 0.005, colors='blue')\n",
    "plt.vlines(443.6638, 0, 0.005, colors='blue')\n",
    "plt.vlines(620.48059, 0, 0.005, colors='blue')\n",
    "plt.vlines(375.74341, 0, 0.005, colors='blue')\n",
    "plt.vlines(735.930723, 0, 0.005, colors='blue')\n",
    "plt.xlim(200,1000)"
   ]
  },
  {
   "cell_type": "code",
   "execution_count": null,
   "metadata": {
    "collapsed": true
   },
   "outputs": [],
   "source": []
  },
  {
   "cell_type": "code",
   "execution_count": null,
   "metadata": {
    "collapsed": true
   },
   "outputs": [],
   "source": []
  },
  {
   "cell_type": "code",
   "execution_count": null,
   "metadata": {
    "collapsed": true
   },
   "outputs": [],
   "source": []
  },
  {
   "cell_type": "code",
   "execution_count": null,
   "metadata": {
    "collapsed": false
   },
   "outputs": [],
   "source": [
    "lognorm.fit(Bdata[\"PARAM3\"]) # 0.20080073031167195, 29.38409602369115, 497.47526983981265"
   ]
  },
  {
   "cell_type": "code",
   "execution_count": null,
   "metadata": {
    "collapsed": false
   },
   "outputs": [],
   "source": [
    "def lognormpdf(x, mu, sigma):\n",
    "    return (np.exp(-(np.log(x) - mu)**2 / (2 * sigma**2)) / (x * sigma * np.sqrt(2 * np.pi)))\n",
    "\n",
    "\n",
    "plt.figure(figsize=(11,7))\n",
    "b = Bdata[\"PARAM3\"]\n",
    "count, bins, ignored = plt.hist(b, 100, normed=True, align='mid')\n",
    "\n",
    "sigma = np.std(np.log(b))\n",
    "mu = np.mean(np.log(b))\n",
    "\n",
    "print \"mu: %f  sigma: %f\"%(mu, sigma)\n",
    "\n",
    "x = np.linspace(min(bins), max(bins), 10000)\n",
    "# pdf = (np.exp(-(np.log(x) - mu)**2 / (2 * sigma**2)) / (x * sigma * np.sqrt(2 * np.pi)))\n",
    "\n",
    "plt.plot(x, lognormpdf(x, mu, sigma), color='r', linewidth=2)\n",
    "\n",
    "plt.vlines(524.111, 0, 0.005, colors='black')\n",
    "plt.xlim(200,1000)\n",
    "plt.show()"
   ]
  },
  {
   "cell_type": "code",
   "execution_count": null,
   "metadata": {
    "collapsed": true
   },
   "outputs": [],
   "source": []
  },
  {
   "cell_type": "code",
   "execution_count": null,
   "metadata": {
    "collapsed": true
   },
   "outputs": [],
   "source": []
  },
  {
   "cell_type": "code",
   "execution_count": null,
   "metadata": {
    "collapsed": true
   },
   "outputs": [],
   "source": []
  },
  {
   "cell_type": "code",
   "execution_count": null,
   "metadata": {
    "collapsed": true
   },
   "outputs": [],
   "source": []
  },
  {
   "cell_type": "markdown",
   "metadata": {},
   "source": [
    "# lognorm.pdf doesn't have a mu parameter and therefore doesn't work.\n",
    "\n",
    "lognorm.pdf(x, s) \n",
    "\n",
    "= 1 / (s\\*x\\*sqrt(2\\*pi)) \\* exp(-1/2\\*(log(x)/s)^2)\n",
    "\n",
    "pdf   \n",
    "= (np.exp(-(np.log(x) - mu)^2 / (2 \\* sigma^2)) / (x \\* sigma \\* np.sqrt(2 \\* np.pi)))"
   ]
  },
  {
   "cell_type": "raw",
   "metadata": {},
   "source": [
    "np.log(x) = np.log(x)-mu"
   ]
  },
  {
   "cell_type": "raw",
   "metadata": {},
   "source": [
    "x = x-exp(mu)"
   ]
  },
  {
   "cell_type": "code",
   "execution_count": null,
   "metadata": {
    "collapsed": false
   },
   "outputs": [],
   "source": [
    "data = Bdata[\"PARAM3\"]\n",
    "\n",
    "sigma  = np.std(np.log(data));    # sigma is shape\n",
    "mu     = np.mean(np.log(data));   # mu is loc\n",
    "scale  = np.exp(mu);              # scale\n",
    "print \"sigma: %f   mu: %f   scale: %f\"%(sigma, mu, scale)"
   ]
  },
  {
   "cell_type": "code",
   "execution_count": null,
   "metadata": {
    "collapsed": false
   },
   "outputs": [],
   "source": [
    "# lognorm.fit()  returns: shape(sigma), loc(mu), scale\n",
    "sigma, mu, scale = lognorm.fit(data)\n",
    "print \"sigma: %f   mu: %f   scale: %f\"%(sigma, mu, scale)"
   ]
  },
  {
   "cell_type": "markdown",
   "metadata": {},
   "source": [
    "## Comparing the plots of the lognorm.fit(data) to using std, mean, and exp(mean) \n",
    "## to determine shape, loc, and scale."
   ]
  },
  {
   "cell_type": "code",
   "execution_count": null,
   "metadata": {
    "collapsed": false
   },
   "outputs": [],
   "source": [
    "data = Bdata[\"PARAM3\"]\n",
    "plt.figure(figsize=(11,7))\n",
    "count, bins, ignored = plt.hist(b, 100, normed=True, align='mid')\n",
    "\n",
    "sigma, mu, scale = lognorm.fit(data)\n",
    "x      = data\n",
    "y_eqn  = (x - mu)\n",
    "y      = lognorm.pdf(x, sigma, mu, scale)\n",
    "\n",
    "plt.plot(x, y, 'g.', ms=6, label='lognorm.pdf using lognorm.fit(data)')\n",
    "\n",
    "\n",
    "sigma   = np.std(np.log(data))\n",
    "mu      = np.mean(np.log(data))\n",
    "scale   = np.exp(mu);  \n",
    "\n",
    "x      = data\n",
    "y_eqn  = (x - mu)\n",
    "y      = lognorm.pdf(x, sigma, mu, scale)\n",
    "\n",
    "plt.plot(x, y, 'r.', ms=4, label='lognorm.pdf using std, mean, exp(mean) of data')\n",
    "\n",
    "plt.xlim(200,1000)\n",
    "plt.legend(loc='best')\n",
    "plt.show()"
   ]
  },
  {
   "cell_type": "code",
   "execution_count": null,
   "metadata": {
    "collapsed": false
   },
   "outputs": [],
   "source": [
    "data = Bdata[\"PARAM3\"]\n",
    "plt.figure(figsize=(11,7))\n",
    "count, bins, ignored = plt.hist(b, 100, normed=True, align='mid')\n",
    "\n",
    "sigma   = np.std(np.log(data))\n",
    "mu      = np.mean(np.log(data))\n",
    "scale   = np.exp(mu);  \n",
    "print \"mu: %f  sigma: %f  scale: %f\"%(mu, sigma, scale)\n",
    "\n",
    "x      = data\n",
    "y_eqn  = (x - mu)/scale\n",
    "y      = lognorm.pdf(y_eqn, sigma)/scale\n",
    "plt.plot(x, y, 'ro', ms=10)\n",
    "\n",
    "x      = data\n",
    "y_eqn  = (x - mu)\n",
    "y      = lognorm.pdf(x, sigma, mu, scale)\n",
    "\n",
    "plt.plot(x, y, 'g.', ms=4)\n",
    "\n",
    "vals = lognorm.ppf([0.025, 0.5, 0.975], s=sigma, loc=mu, scale=scale)\n",
    "print \"P(0.025)= %f   P(.5)= %f    P(.975)= %f\"%(vals[0], vals[1], vals[2])\n",
    "\n",
    "plt.vlines(vals, y.min(), y.max(), colors='black', lw=4)\n",
    "plt.xlim(200,1000)\n",
    "plt.show()"
   ]
  },
  {
   "cell_type": "code",
   "execution_count": null,
   "metadata": {
    "collapsed": true
   },
   "outputs": [],
   "source": [
    "def lognorm_mean():\n",
    "    return "
   ]
  },
  {
   "cell_type": "code",
   "execution_count": null,
   "metadata": {
    "collapsed": false
   },
   "outputs": [],
   "source": [
    "sigma, mu, scale"
   ]
  },
  {
   "cell_type": "code",
   "execution_count": null,
   "metadata": {
    "collapsed": false
   },
   "outputs": [],
   "source": [
    "# no mode in numpy\n",
    "np.mean(data), np.median(data), np.var(data)"
   ]
  },
  {
   "cell_type": "code",
   "execution_count": null,
   "metadata": {
    "collapsed": false
   },
   "outputs": [],
   "source": [
    "data.mean(), data.median(), data.mode(), data.var()"
   ]
  },
  {
   "cell_type": "code",
   "execution_count": null,
   "metadata": {
    "collapsed": false
   },
   "outputs": [],
   "source": [
    "# mean, median, mode, variance\n",
    "np.exp(mu+(sigma**2)/2.), np.exp(mu), np.exp(mu-(sigma**2)), (np.exp(sigma**2)-1)*np.exp(2*mu+sigma**2)"
   ]
  },
  {
   "cell_type": "code",
   "execution_count": null,
   "metadata": {
    "collapsed": false
   },
   "outputs": [],
   "source": [
    "lognorm.mean(sigma, mu, scale), lognorm.median(sigma, mu, scale), lognorm.var(sigma, mu, scale)"
   ]
  },
  {
   "cell_type": "code",
   "execution_count": null,
   "metadata": {
    "collapsed": false
   },
   "outputs": [],
   "source": [
    "lognorm.mean(sigma, mu, scale), lognorm.median(sigma, mu, scale), lognorm.var(sigma, mu, scale)"
   ]
  },
  {
   "cell_type": "code",
   "execution_count": null,
   "metadata": {
    "collapsed": true
   },
   "outputs": [],
   "source": [
    "# mean\n",
    "plt.vlines(524.111, 0, 0.005, colors='blue')\n",
    "\n",
    "# 1 sigma\n",
    "plt.vlines(443.6638, 0, 0.005, colors='blue')\n",
    "plt.vlines(620.48059, 0, 0.005, colors='blue')\n",
    "\n",
    "# 2 sigma\n",
    "plt.vlines(375.74341, 0, 0.005, colors='blue')\n",
    "plt.vlines(735.930723, 0, 0.005, colors='blue')"
   ]
  },
  {
   "cell_type": "code",
   "execution_count": null,
   "metadata": {
    "collapsed": false
   },
   "outputs": [],
   "source": [
    "vals = lognorm.ppf([0.025, 0.5, 0.975], s=sigma, loc=mu, scale=scale)\n",
    "vals"
   ]
  },
  {
   "cell_type": "code",
   "execution_count": null,
   "metadata": {
    "collapsed": false
   },
   "outputs": [],
   "source": [
    "lognorm.ppf([0.34, 0.5, 0.65], s=sigma, loc=mu, scale=scale)"
   ]
  },
  {
   "cell_type": "code",
   "execution_count": null,
   "metadata": {
    "collapsed": false
   },
   "outputs": [],
   "source": [
    "# Generate a thousand samples: each is the product of 100 random\n",
    "# values, drawn from a normal distribution.\n",
    "# b = []\n",
    "# for i in range(1000):\n",
    "#     a = 10. + np.random.random(100)\n",
    "#     b.append(np.product(a))\n",
    "\n",
    "#b = np.array(b) / np.min(b) # scale values to be positive\n",
    "plt.figure(figsize=(11,7))\n",
    "b = Bdata[\"PARAM3\"]\n",
    "count, bins, ignored = plt.hist(b, 100, normed=True, align='mid')\n",
    "sigma = np.std(np.log(b))\n",
    "mu = np.mean(np.log(b))\n",
    "print \"mu: %f  sigma: %f\"%(mu, sigma)\n",
    "\n",
    "x = np.linspace(min(bins), max(bins), 10000)\n",
    "pdf = (np.exp(-(np.log(x) - mu)**2 / (2 * sigma**2)) / (x * sigma * np.sqrt(2 * np.pi)))\n",
    "\n",
    "plt.plot(x, pdf, color='r', linewidth=2)\n",
    "\n",
    "plt.vlines(524.111, 0, 0.005, colors='blue')\n",
    "plt.xlim(200,1000)\n",
    "plt.show()"
   ]
  },
  {
   "cell_type": "code",
   "execution_count": null,
   "metadata": {
    "collapsed": false
   },
   "outputs": [],
   "source": [
    "lognorm.ppf([0.025], pdf)"
   ]
  },
  {
   "cell_type": "code",
   "execution_count": null,
   "metadata": {
    "collapsed": false
   },
   "outputs": [],
   "source": [
    "vals = lognorm.ppf([0.001, 0.5, 0.999], b.mean())"
   ]
  },
  {
   "cell_type": "code",
   "execution_count": null,
   "metadata": {
    "collapsed": false
   },
   "outputs": [],
   "source": [
    "vals"
   ]
  },
  {
   "cell_type": "code",
   "execution_count": null,
   "metadata": {
    "collapsed": false
   },
   "outputs": [],
   "source": [
    "xA = Bdata[\"PARAM3\"]\n",
    "muA = Bdata[\"PARAM3\"].mean()\n",
    "Plot_ParamDistributions(modname, 'PARAM3', bins=100)\n",
    "plt.plot(xA, poisson.pmf(xA, muA), 'go', ms=8, label='poisson pmf')\n",
    "plt.vlines(524.111, 0, 0.005, colors='blue')\n",
    "plt.vlines(443.6638, 0, 0.005, colors='blue')\n",
    "plt.vlines(620.48059, 0, 0.005, colors='blue')\n",
    "plt.vlines(375.74341, 0, 0.005, colors='blue')\n",
    "plt.vlines(735.930723, 0, 0.005, colors='blue')\n",
    "plt.xlim(200,1000)"
   ]
  },
  {
   "cell_type": "code",
   "execution_count": null,
   "metadata": {
    "collapsed": true
   },
   "outputs": [],
   "source": []
  },
  {
   "cell_type": "code",
   "execution_count": null,
   "metadata": {
    "collapsed": true
   },
   "outputs": [],
   "source": []
  },
  {
   "cell_type": "code",
   "execution_count": null,
   "metadata": {
    "collapsed": true
   },
   "outputs": [],
   "source": []
  },
  {
   "cell_type": "code",
   "execution_count": null,
   "metadata": {
    "collapsed": true
   },
   "outputs": [],
   "source": []
  },
  {
   "cell_type": "code",
   "execution_count": null,
   "metadata": {
    "collapsed": false
   },
   "outputs": [],
   "source": [
    "# Generate a thousand samples: each is the product of 100 random\n",
    "# values, drawn from a normal distribution.\n",
    "b = []\n",
    "for i in range(1000):\n",
    "    a = 10. + np.random.random(100)\n",
    "    b.append(np.product(a))\n",
    "\n",
    "b = np.array(b) / np.min(b) # scale values to be positive\n",
    "count, bins, ignored = plt.hist(b, 100, normed=True, align='mid')\n",
    "sigma = np.std(np.log(b))\n",
    "mu = np.mean(np.log(b))\n",
    "\n",
    "x = np.linspace(min(bins), max(bins), 10000)\n",
    "pdf = (np.exp(-(np.log(x) - mu)**2 / (2 * sigma**2))\n",
    "       / (x * sigma * np.sqrt(2 * np.pi)))\n",
    "\n",
    "plt.plot(x, pdf, color='r', linewidth=2)\n",
    "plt.show()"
   ]
  },
  {
   "cell_type": "code",
   "execution_count": null,
   "metadata": {
    "collapsed": true
   },
   "outputs": [],
   "source": []
  },
  {
   "cell_type": "code",
   "execution_count": null,
   "metadata": {
    "collapsed": true
   },
   "outputs": [],
   "source": []
  },
  {
   "cell_type": "code",
   "execution_count": null,
   "metadata": {
    "collapsed": true
   },
   "outputs": [],
   "source": []
  },
  {
   "cell_type": "code",
   "execution_count": null,
   "metadata": {
    "collapsed": false
   },
   "outputs": [],
   "source": [
    "fig, ax = plt.subplots(1, 1)\n",
    "mu = Bdata[\"PARAM3\"].mean() \n",
    "\n",
    "mean, var, skew, kurt = poisson.stats(mu, moments='mvsk') # mean is same as mu\n",
    "\n",
    "x = np.arange(poisson.ppf(0.99, mu))#, poisson.ppf(0.99, mu))\n",
    "ax.plot(x, poisson.pmf(x, mu), 'b-', label='poisson pmf')\n",
    "ax.set_xlim([450,600])\n",
    "#ax.vlines(x, 0, poisson.pmf(x, mu), colors='b', lw=5, alpha=0.5)\n",
    "\n",
    "rv = poisson(mu)\n",
    "ax.vlines(x, 0, rv.pmf(x), colors='k', linestyles='-', lw=1, label='frozen pmf')\n",
    "ax.legend(loc='best', frameon=False)\n",
    "plt.show()"
   ]
  },
  {
   "cell_type": "code",
   "execution_count": null,
   "metadata": {
    "collapsed": true
   },
   "outputs": [],
   "source": []
  },
  {
   "cell_type": "code",
   "execution_count": null,
   "metadata": {
    "collapsed": true
   },
   "outputs": [],
   "source": []
  },
  {
   "cell_type": "code",
   "execution_count": null,
   "metadata": {
    "collapsed": false
   },
   "outputs": [],
   "source": [
    "var"
   ]
  },
  {
   "cell_type": "code",
   "execution_count": null,
   "metadata": {
    "collapsed": false
   },
   "outputs": [],
   "source": [
    "#fig, ax = plt.subplots(1, 1)\n",
    "mu = Bdata[\"PARAM3\"].mean() \n",
    "\n",
    "mean, var, skew, kurt = poisson.stats(mu, moments='mvsk') # mean is same as mu\n",
    "\n",
    "x = np.arange(poisson.ppf(0.99, mu))#, poisson.ppf(0.99, mu))\n",
    "#x = np.arange(poisson.ppf(0.99, mu))#, poisson.ppf(0.99, mu))\n",
    "Plot_ParamDistributions(modname, 'PARAM3', bins=100)\n",
    "plt.plot(x, poisson.pmf(x, mu), 'b-', label='poisson pmf')\n",
    "plt.xlim([200,1000])\n",
    "#Plot_ParamDistributions(modname, 'PARAM3', bins=100)"
   ]
  },
  {
   "cell_type": "code",
   "execution_count": null,
   "metadata": {
    "collapsed": false
   },
   "outputs": [],
   "source": [
    "xA = Bdata[\"PARAM3\"]\n",
    "muA = Bdata[\"PARAM3\"].mean()\n",
    "Plot_ParamDistributions(modname, 'PARAM3', bins=100)\n",
    "plt.plot(xA, poisson.pmf(xA, muA), 'go', ms=8, label='poisson pmf')\n",
    "plt.vlines(524.111, 0, 0.005, colors='blue')\n",
    "plt.vlines(443.6638, 0, 0.005, colors='blue')\n",
    "plt.vlines(620.48059, 0, 0.005, colors='blue')\n",
    "plt.vlines(375.74341, 0, 0.005, colors='blue')\n",
    "plt.vlines(735.930723, 0, 0.005, colors='blue')"
   ]
  },
  {
   "cell_type": "code",
   "execution_count": null,
   "metadata": {
    "collapsed": true
   },
   "outputs": [],
   "source": []
  },
  {
   "cell_type": "code",
   "execution_count": null,
   "metadata": {
    "collapsed": true
   },
   "outputs": [],
   "source": []
  },
  {
   "cell_type": "code",
   "execution_count": null,
   "metadata": {
    "collapsed": true
   },
   "outputs": [],
   "source": []
  },
  {
   "cell_type": "code",
   "execution_count": null,
   "metadata": {
    "collapsed": true
   },
   "outputs": [],
   "source": []
  },
  {
   "cell_type": "code",
   "execution_count": null,
   "metadata": {
    "collapsed": false,
    "scrolled": true
   },
   "outputs": [],
   "source": [
    "for name in Bdata.columns:\n",
    "    if 'PARAM' in name:\n",
    "        Plot_ParamDistributions(modname, name)\n",
    "        #plt.savefig(pp, format='pdf', dpi=150, bbox_inches = 'tight')\n",
    "    elif ('AIC' in name) or ('BIC' in name) or ('LOGLIKE' in name) or ('CSTAT' in name):\n",
    "        Plot_ParamDistributions(modname, name)\n",
    "        #plt.savefig(pp, format='pdf', dpi=150, bbox_inches = 'tight')\n",
    "    else:\n",
    "        pass"
   ]
  },
  {
   "cell_type": "code",
   "execution_count": null,
   "metadata": {
    "collapsed": true
   },
   "outputs": [],
   "source": [
    "#pp.close()"
   ]
  },
  {
   "cell_type": "code",
   "execution_count": null,
   "metadata": {
    "collapsed": true
   },
   "outputs": [],
   "source": [
    "target = open(paramoutfile2, 'w')"
   ]
  },
  {
   "cell_type": "code",
   "execution_count": null,
   "metadata": {
    "collapsed": false
   },
   "outputs": [],
   "source": [
    "for name in Bdata.columns:\n",
    "    if 'PARAM' in name:\n",
    "        x = Bdata[\"%s\"%name]\n",
    "        muX, sigmaX = np.mean(x), np.sqrt(np.var(x))\n",
    "        line1 =  \"%s\"%name\n",
    "        line2 = \"Value:    %.13f\"%muX\n",
    "        line3 = \"1-sigma:  %.13f, %.13f\"%(muX - sigmaX, muX + sigmaX)\n",
    "        line4 = \"2-sigma:  %.13f, %.13f\"%(muX - 2*sigmaX, muX + 2*sigmaX)\n",
    "        line5 = \"3-sigma:  %.13f, %.13f\"%(muX - 3*sigmaX, muX + 3*sigmaX)\n",
    "        line6 = \"min max:  %.13f, %.13f\"%(x.min(), x.max())\n",
    "        #print \"\"\n",
    "        target.write(line1)\n",
    "        target.write(\"\\n\")\n",
    "        target.write(line2)\n",
    "        target.write(\"\\n\")\n",
    "        target.write(line3)\n",
    "        target.write(\"\\n\")\n",
    "        target.write(line4)\n",
    "        target.write(\"\\n\")\n",
    "        target.write(line5)\n",
    "        target.write(\"\\n\")\n",
    "        target.write(line6)\n",
    "        target.write(\"\\n\")\n",
    "        target.write(\"\\n\")\n",
    "    elif ('AIC' in name) or ('BIC' in name) or ('LOGLIKE' in name) or ('CSTAT' in name):\n",
    "        x = Bdata[\"%s\"%name]\n",
    "        muX, sigmaX = np.mean(x), np.sqrt(np.var(x))\n",
    "        line1 =  \"%s\"%name\n",
    "        line2 = \"Value:    %.13f\"%muX\n",
    "        line3 = \"1-sigma:  %.13f, %.13f\"%(muX - sigmaX, muX + sigmaX)\n",
    "        line4 = \"2-sigma:  %.13f, %.13f\"%(muX - 2*sigmaX, muX + 2*sigmaX)\n",
    "        line5 = \"3-sigma:  %.13f, %.13f\"%(muX - 3*sigmaX, muX + 3*sigmaX)\n",
    "        line6 = \"min max:  %.13f, %.13f\"%(x.min(), x.max())\n",
    "        #print \"\"\n",
    "        target.write(line1)\n",
    "        target.write(\"\\n\")\n",
    "        target.write(line2)\n",
    "        target.write(\"\\n\")\n",
    "        target.write(line3)\n",
    "        target.write(\"\\n\")\n",
    "        target.write(line4)\n",
    "        target.write(\"\\n\")\n",
    "        target.write(line5)\n",
    "        target.write(\"\\n\")\n",
    "        target.write(line6)\n",
    "        target.write(\"\\n\")\n",
    "        target.write(\"\\n\")\n",
    "    else:\n",
    "        pass"
   ]
  },
  {
   "cell_type": "code",
   "execution_count": null,
   "metadata": {
    "collapsed": true
   },
   "outputs": [],
   "source": [
    "target.close()"
   ]
  },
  {
   "cell_type": "code",
   "execution_count": null,
   "metadata": {
    "collapsed": false
   },
   "outputs": [],
   "source": [
    "param_dict = OrderedDict()\n",
    "for name in Bdata.columns:\n",
    "    if 'PARAM' in name:\n",
    "        x = Bdata[\"%s\"%name]\n",
    "        muX, sigmaX = np.mean(x), np.sqrt(np.var(x))\n",
    "        # print \"%s\"%name\n",
    "        # print \"Value:    %.13f\"%muX\n",
    "        # print \"1-sigma:  %.13f, %.13f\"%(muX - sigmaX, muX + sigmaX)\n",
    "        # print \"2-sigma:  %.10f, %.10f\"%(muX - 2*sigmaX, muX + 2*sigmaX)\n",
    "        # print \"3-sigma:  %.10f, %.10f\"%(muX - 3*sigmaX, muX + 3*sigmaX)\n",
    "        # print \"\"\n",
    "        param_dict[\"%s\"%name] = [muX, muX - sigmaX, muX + sigmaX, muX - 2*sigmaX, muX + 2*sigmaX, muX - 3*sigmaX, muX + 3*sigmaX, x.min(), x.max()]\n",
    "    elif ('AIC' in name) or ('BIC' in name) or ('LOGLIKE' in name) or ('CSTAT' in name):\n",
    "        x = Bdata[\"%s\"%name]\n",
    "        muX, sigmaX = np.mean(x), np.sqrt(np.var(x))\n",
    "        param_dict[\"%s\"%name] = [muX, muX - sigmaX, muX + sigmaX, muX - 2*sigmaX, muX + 2*sigmaX, muX - 3*sigmaX, muX + 3*sigmaX, x.min(), x.max()]\n",
    "    else:\n",
    "        pass\n",
    "        "
   ]
  },
  {
   "cell_type": "code",
   "execution_count": null,
   "metadata": {
    "collapsed": true
   },
   "outputs": [],
   "source": [
    "outDataFrame = pd.DataFrame(param_dict)"
   ]
  },
  {
   "cell_type": "code",
   "execution_count": null,
   "metadata": {
    "collapsed": false
   },
   "outputs": [],
   "source": [
    "outDataFrame.to_csv(path_or_buf = paramoutfile, sep = ',', header=True, index=False)"
   ]
  },
  {
   "cell_type": "code",
   "execution_count": null,
   "metadata": {
    "collapsed": false
   },
   "outputs": [],
   "source": [
    "os.system('cp %s %s'%(outfile, outfile2))"
   ]
  },
  {
   "cell_type": "code",
   "execution_count": null,
   "metadata": {
    "collapsed": true
   },
   "outputs": [],
   "source": []
  },
  {
   "cell_type": "code",
   "execution_count": null,
   "metadata": {
    "collapsed": true
   },
   "outputs": [],
   "source": []
  },
  {
   "cell_type": "code",
   "execution_count": null,
   "metadata": {
    "collapsed": true
   },
   "outputs": [],
   "source": []
  },
  {
   "cell_type": "raw",
   "metadata": {
    "collapsed": false
   },
   "source": [
    "def Plot_ParamComparison(modelname, ax, one, two):\n",
    "\n",
    "    def eigsorted(cov):\n",
    "        vals, vecs = np.linalg.eigh(cov)\n",
    "        order = vals.argsort()[::-1]\n",
    "        return vals[order], vecs[:,order]\n",
    "\n",
    "    \n",
    "    XLabel = 'PARAM%i'%(one)\n",
    "    YLabel = 'PARAM%i'%(two)\n",
    "\n",
    "    x = Bdata[\"%s\"%XLabel]\n",
    "    y = Bdata[\"%s\"%YLabel]\n",
    "    muX, sigmaX = np.mean(x), np.sqrt(np.var(x))\n",
    "    muY, sigmaY = np.mean(y), np.sqrt(np.var(y))\n",
    "\n",
    "    cov = np.cov(x, y)\n",
    "\n",
    "    vals, vecs = eigsorted(cov)\n",
    "    theta = np.degrees(np.arctan2(*vecs[:,0][::-1]))\n",
    "    \n",
    "    for j in xrange(1, 4):\n",
    "        width = 2 * j * np.sqrt(vals)[0]\n",
    "        height = 2 * j * np.sqrt(vals)[1]\n",
    "        ell = Ellipse(xy=(np.mean(x), np.mean(y)),\n",
    "                      width= width, height= height,\n",
    "                      angle= theta)\n",
    "        ell.set_facecolor('none')\n",
    "        ax.add_artist(ell)\n",
    "\n",
    "    plt.errorbar(np.mean(x), np.mean(y), xerr= 3*sigmaX, yerr= 3*sigmaY, color='green', lw=2)\n",
    "    plt.errorbar(np.mean(x), np.mean(y), xerr= 2*sigmaX, yerr= 2*sigmaY, color='blue', lw=2)\n",
    "    plt.errorbar(np.mean(x), np.mean(y), xerr= sigmaX, yerr= sigmaY, color='black', lw=2)\n",
    "    plt.scatter(x, y, color='red', alpha = 0.1)\n",
    "    plt.xlim(x.min(), x.max())\n",
    "    plt.ylim(y.min(), y.max())\n",
    "    plt.xlabel(\"%s\"%XLabel)\n",
    "    plt.ylabel(\"%s\"%YLabel)\n",
    "    plt.title(\"%s\"%modelname)\n"
   ]
  }
 ],
 "metadata": {
  "kernelspec": {
   "display_name": "Python 2",
   "language": "python",
   "name": "python2"
  },
  "language_info": {
   "codemirror_mode": {
    "name": "ipython",
    "version": 2
   },
   "file_extension": ".py",
   "mimetype": "text/x-python",
   "name": "python",
   "nbconvert_exporter": "python",
   "pygments_lexer": "ipython2",
   "version": "2.7.12"
  }
 },
 "nbformat": 4,
 "nbformat_minor": 0
}
